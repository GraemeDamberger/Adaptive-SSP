{
 "cells": [
  {
   "cell_type": "code",
   "execution_count": 10,
   "id": "e98599dd-dc3b-4136-83da-7499b81efd80",
   "metadata": {},
   "outputs": [],
   "source": [
    "import nengo\n",
    "import numpy as np\n",
    "\n",
    "#import pytry\n",
    "import scipy\n",
    "#import nni\n",
    "\n",
    "from sklearn.metrics import mean_squared_error\n",
    "import matplotlib.pyplot as plt\n",
    "\n",
    "from datetime import datetime\n",
    "import sys,os"
   ]
  },
  {
   "cell_type": "markdown",
   "id": "371baceb-7616-4539-b412-995c0274462d",
   "metadata": {
    "jp-MarkdownHeadingCollapsed": true
   },
   "source": [
    "# Code From Summer School"
   ]
  },
  {
   "cell_type": "markdown",
   "id": "7aabe24e-32f2-490a-af45-ba2cf012ed61",
   "metadata": {
    "jp-MarkdownHeadingCollapsed": true
   },
   "source": [
    "## Plotting"
   ]
  },
  {
   "cell_type": "code",
   "execution_count": 1,
   "id": "6d6713f1-bbca-4e0f-8d99-cf9c222be10a",
   "metadata": {},
   "outputs": [
    {
     "ename": "NameError",
     "evalue": "name 'sim' is not defined",
     "output_type": "error",
     "traceback": [
      "\u001b[1;31m---------------------------------------------------------------------------\u001b[0m",
      "\u001b[1;31mNameError\u001b[0m                                 Traceback (most recent call last)",
      "Cell \u001b[1;32mIn[1], line 1\u001b[0m\n\u001b[1;32m----> 1\u001b[0m ref_signal \u001b[38;5;241m=\u001b[39m \u001b[43msim\u001b[49m\u001b[38;5;241m.\u001b[39mdata[model\u001b[38;5;241m.\u001b[39mstim_probe]\n\u001b[0;32m      2\u001b[0m out_signal \u001b[38;5;241m=\u001b[39m sim\u001b[38;5;241m.\u001b[39mdata[model\u001b[38;5;241m.\u001b[39msys_probe]\n\u001b[0;32m      4\u001b[0m t_idx_dist \u001b[38;5;241m=\u001b[39m \u001b[38;5;28mint\u001b[39m(param\u001b[38;5;241m.\u001b[39mt_dist \u001b[38;5;241m/\u001b[39m param\u001b[38;5;241m.\u001b[39mdt)\n",
      "\u001b[1;31mNameError\u001b[0m: name 'sim' is not defined"
     ]
    }
   ],
   "source": [
    "ref_signal = sim.data[model.stim_probe]\n",
    "out_signal = sim.data[model.sys_probe]\n",
    "\n",
    "t_idx_dist = int(param.t_dist / param.dt)\n",
    "mse = mean_squared_error(ref_signal[t_idx_dist:,0],out_signal[t_idx_dist:,0])        \n",
    "\n",
    "n_eval_points = 100\n",
    "meshes = np.meshgrid(*[np.linspace(b[0], b[1], n_eval_points) \n",
    "                        for b in param.domain_ranges_])\n",
    "eval_xs = np.vstack([m.flatten() for m in meshes]).T\n",
    "\n",
    "if param.use_ssp == True:\n",
    "    eval_phis = np.array(ssp_embedding.encode(eval_xs))\n",
    "    _,A = nengo.utils.ensemble.tuning_curves( ens = model.adaptive, sim = sim, inputs = eval_phis )\n",
    "else:\n",
    "    _,A = nengo.utils.ensemble.tuning_curves( ens = model.adaptive, sim = sim, inputs = eval_xs )\n",
    "\n",
    "rho_actual = ( A > 0 ).mean()\n",
    "\n",
    "if param.plot == True:\n",
    "\n",
    "    #Plot and evaluate\n",
    "    t = sim.trange()\n",
    "\n",
    "    if param.use_ssp == True:\n",
    "        title = 'With SSP embedding'\n",
    "    else:\n",
    "        title = 'No SSP embedding'\n",
    "\n",
    "    fig,(ax1,ax2,ax3) = plt.subplots(3,1,figsize=(4.,12.),sharex=True)\n",
    "    ax1.plot(t, ref_signal[:,0], label='Ref Signal',zorder=10,color='k',linestyle='--')\n",
    "    ax1.plot(t, out_signal[:,0], label='State Signal')\n",
    "    ax1.legend(loc='lower left')\n",
    "    ax1.set_ylabel('Amplitude')\n",
    "\n",
    "    ax2.plot(t, ref_signal[:,1], label='Ref Signal',zorder=10,color='k',linestyle='--')\n",
    "    ax2.plot(t, out_signal[:,1], label='State Signal')\n",
    "    ax2.legend(loc='lower left')\n",
    "\n",
    "    ax3.plot(t, ref_signal[:,0]-out_signal[:,0],color='dimgray',alpha=0.1)\n",
    "    ax3.axhline(0.,color='k')\n",
    "    #ax3.set_yscale('log')\n",
    "    ax3.set_ylim(-0.1,0.1)\n",
    "    ax3.set_ylabel('Error')\n",
    "    ax3.set_xlabel('Time (s)')\n",
    "    \n",
    "    for ax in (ax1,ax2,ax3):\n",
    "        ax.axvline(param.t_dist,color='k',linestyle='--')\n",
    "    \n",
    "    fig.suptitle(title)\n",
    "    plt.legend()\n",
    "    plt.show()\n",
    "\n",
    "    fig,axs = plt.subplots(1,5,figsize=(15.,3.))\n",
    "    neurons_to_show = np.random.choice(range(param.num_neurons),5,replace=False)\n",
    "    for n,ax in zip(neurons_to_show,axs.ravel()):\n",
    "        ax.imshow(A[:,n].reshape(n_eval_points,n_eval_points),\n",
    "                      origin = 'lower',\n",
    "                      extent = param.domain_ranges_.ravel(),\n",
    "                      aspect = 'auto',\n",
    "                      #vmin = -0.13, vmax = 1.\n",
    "                 )\n",
    "        if ax == axs[0]:\n",
    "            ax.set_xlabel(r'$x$')\n",
    "            ax.set_ylabel(r'$\\dot x$')\n",
    "        else:\n",
    "            ax.axis('off')\n",
    "    fig.tight_layout()\n",
    "    plt.show()\n"
   ]
  },
  {
   "cell_type": "markdown",
   "id": "8b56dd14-b656-4c35-ad97-dea93e030918",
   "metadata": {
    "jp-MarkdownHeadingCollapsed": true
   },
   "source": [
    "## Pendulum - Jaun"
   ]
  },
  {
   "cell_type": "code",
   "execution_count": null,
   "id": "f6149015-362b-4e4e-be3a-e3459e6019c8",
   "metadata": {},
   "outputs": [],
   "source": [
    "#Sliding Mode\n",
    "class pen:\n",
    "    def __init__(self,dt,m,l,b):\n",
    "        self.dt = dt\n",
    "        self.m = m\n",
    "        self.l = l\n",
    "        self.b = b\n",
    "        self.dt = dt\n",
    "        self.g = 9.81\n",
    "    def __call__(self,t, x):\n",
    "        # dynamics Xdot=[x1dot,x2dot]\n",
    "        Xdot = np.asarray([ x[1] , -self.m*self.g*self.l * np.sin(x[0]) - self.b*x[1] + x[2]])\n",
    "        return x[0:2] + Xdot * dt  # numerical integral\n",
    "#Sim parameters\n",
    "num_neurons = 1000\n",
    "model = nengo.Network()\n",
    "#Tau_s = 0\n",
    "tau=0.1\n",
    "#Model parameters\n",
    "m = 1\n",
    "g = 9.8\n",
    "l= 1\n",
    "b=0.05\n",
    "dt = 0.001\n",
    "#Controller gains\n",
    "kp  = 10\n",
    "kd = 10\n",
    "ki = 0\n",
    "lam = 1\n",
    "ks = 1\n",
    "#Nengo model\n",
    "with model:\n",
    "    #Control function\n",
    "    #def u(x):\n",
    "    #    return kp * x[0] + kd * x[1]\n",
    "    #Nodes and ensembles\n",
    "    sys = nengo.Node(pen(dt,m,l,b),size_in = 3)\n",
    "    stim = nengo.Node(lambda t: [0.5*np.sin(t),0.5*np.cos(t)]) #Stimulas\n",
    "    err = nengo.Ensemble(num_neurons,2,radius = 2)\n",
    "    con = nengo.Ensemble(num_neurons,1)\n",
    "    nengo.Connection(sys, sys[0:2], synapse=tau)\n",
    "    nengo.Connection(sys, err, synapse=tau)\n",
    "    nengo.Connection(stim, err, transform=-1, synapse= tau)\n",
    "    def u(e):\n",
    "        s = e[1]+lam*e[0]    #-m*gr*l*np.sin(x[0]);\n",
    "        return   tau*(- ks*s - lam*e[1] - (10/tau)*np.sign(s))\n",
    "    nengo.Connection(err, con, function = u, synapse= tau)\n",
    "    #integral = nengo.Ensemble(num_neurons,1)\n",
    "    adaptive = nengo.Ensemble(num_neurons,2)\n",
    "    nengo.Connection(con, sys[2],transform = 10, synapse  = tau)\n",
    "    #Adaptive components\n",
    "    nengo.Connection(err,adaptive)\n",
    "    #nengo.Connection(sys,adaptive)\n",
    "    #u_adapt = nengo.Connection(adaptive,con, transform=np.zeros((1,2)), learning_rule_type=nengo.PES(learning_rate=2e-4))\n",
    "    fx_hat = nengo.Connection(adaptive,\n",
    "                                con,\n",
    "                                transform=-np.ones((1,2)),\n",
    "                                learning_rule_type=nengo.PES(learning_rate=0.5e-3),\n",
    "                                synapse = tau)\n",
    "    def s(e):\n",
    "         return e[1]+lam*e[0]           #sliding surface\n",
    "    nengo.Connection(err,fx_hat.learning_rule,function = s)"
   ]
  },
  {
   "cell_type": "code",
   "execution_count": null,
   "id": "5966830e-0fdf-4b3a-8427-4db4c45e5076",
   "metadata": {},
   "outputs": [],
   "source": [
    "#PD\n",
    "\n",
    "tau = 0.1   #synapse\n",
    "m = 1\n",
    "gr = 9.8\n",
    "l= 1\n",
    "b=0.5\n",
    "kp = 1\n",
    "kd = 1\n",
    "#ki = 5\n",
    "#gains\n",
    "lam =1 # lambda\n",
    "ks = 1\n",
    "Am = 1\n",
    "eta = 2000\n",
    "def feedback(x):\n",
    "    #uncertainties\n",
    "    dist = 0                            #time-dep disturbance\n",
    "    fx =  m*gr*l*np.sin(x[0]) + b*x[1]*np.abs(x[1])   #state-dependent dist\n",
    "    #states\n",
    "    dx0 = x[1]\n",
    "    dx1 = 0 + dist + fx  # dist\n",
    "    return [dx0 * tau + x[0], dx1 * tau + x[1]]\n",
    "model = nengo.Network(seed=1)   #seed 1 ???\n",
    "with model:\n",
    "    #dynamics\n",
    "    state = nengo.Ensemble(n_neurons=eta, dimensions=2)\n",
    "    nengo.Connection(state, state, function=feedback, synapse=tau)\n",
    "    #nengo.Connection(state,uncertainty,function=functest)\n",
    "    #feedback\n",
    "    control = nengo.Ensemble(n_neurons=eta, dimensions=2)\n",
    "    nengo.Connection(state, control)\n",
    "    #desired states (constant)\n",
    "    state_d = nengo.Node([0,0])\n",
    "    encoding_refs = nengo.Ensemble(n_neurons=eta, dimensions=2)\n",
    "    #nengo.Connection(state_d,encoding_refs)\n",
    "    #nengo.Connection(encoding_refs,control,transform=-1,synapse=tau)\n",
    "    #desired states (trajectory)\n",
    "    def sincos(t):\n",
    "        return [Am*np.sin(t),Am*np.cos(t)]\n",
    "    trajectory = nengo.Node(sincos)\n",
    "    nengo.Connection(trajectory,encoding_refs)\n",
    "    nengo.Connection(encoding_refs,control,transform=-1,synapse=tau)\n",
    "    #CONTROL\n",
    "    def u(e):\n",
    "        s = e[1]+lam*e[0]    #-m*gr*l*np.sin(x[0]);\n",
    "        return   tau*(- ks*s - lam*e[1])   #Sliding\n",
    "        #return   (- kp*e[0] - kd*e[1])  #Grame PD\n",
    "    nengo.Connection(control, state[1], function=u, synapse=tau)\n",
    "    #INTEGRAL TERM\n",
    "    #int = nengo.Ensemble(n_neurons=2000, dimensions=1)\n",
    "    #nengo.Connection(int, int)\n",
    "    #nengo.Connection(con[0], int, transform=tau)\n",
    "    #nengo.Connection(int, state[1], transform=-tau*ki)\n",
    "    #ADAPTIVE\n",
    "    adaptive = nengo.Ensemble(n_neurons=eta, dimensions=1)\n",
    "    fx_hat = nengo.Connection(adaptive,\n",
    "                                state[1],\n",
    "                                learning_rule_type=nengo.PES(learning_rate=0.5e-4),\n",
    "                                transform=-1,\n",
    "                                synapse = tau)\n",
    "    #weights training\n",
    "    def s(e):\n",
    "        #return e[1]+lam*e[0]            #sliding surface\n",
    "         return kd*e[1]+kp*e[0]           #sliding surface\n",
    "    nengo.Connection(control, fx_hat.learning_rule, function = s) #for the weight omega(s)\n",
    "    #Juan (theory ok)\n",
    "    #nengo.Connection(control,adaptive,function=s)\n",
    "    #Graeme ok\n",
    "    nengo.Connection(state[0],adaptive)\n",
    "    # **************** Display fx vs fxhat\n",
    "    def functest(x):\n",
    "        return tau*(-m*gr*l*np.sin(x[0]) - b*x[1]*np.abs(x[1]))\n",
    "    uncertainty = nengo.Ensemble(n_neurons=eta, dimensions=1)\n",
    "    nengo.Connection(state,uncertainty,function=functest,synapse=tau,transform=-1)"
   ]
  },
  {
   "cell_type": "markdown",
   "id": "c2c41511-8d0c-4a09-bccf-4581f00d25f9",
   "metadata": {},
   "source": [
    "## Kathryn - Adaptive Controller Trial"
   ]
  },
  {
   "cell_type": "code",
   "execution_count": null,
   "id": "669bde75-803d-436a-8ec3-703a695b46a1",
   "metadata": {},
   "outputs": [],
   "source": [
    "\n",
    "\n",
    "# Define system dynamics\n",
    "class pen:\n",
    "    def __init__(self,dt,m,g,l,b,t_dist):\n",
    "        self.dt = dt\n",
    "        self.g = g\n",
    "        self.l = l\n",
    "        self.b = b\n",
    "        self.m = m\n",
    "        self.t_dist = t_dist\n",
    "    def __call__(self,t, x):\n",
    "        if (x[0] < 0.) & (t > self.t_dist):\n",
    "            m = self.m + 5.\n",
    "        else:\n",
    "            m = self.m\n",
    "\n",
    "        f_x = np.asarray([ x[1] , -m*self.g*self.l * np.sin(x[0]) - self.b*x[1] + 10*x[2]])\n",
    "        \n",
    "        return x[0:2] + f_x * self.dt\n",
    "\n",
    "# helper functions\n",
    "def sparsity_to_x_intercept(d, p):\n",
    "    sign = 1\n",
    "    if p > 0.5:\n",
    "        p = 1.0 - p\n",
    "        sign = -1\n",
    "    return sign * np.sqrt(1-scipy.special.betaincinv((d-1)/2.0, 0.5, 2*p))\n",
    "\n",
    "def make_unitary_matrix_fourier( ssp_dim, domain_dim, eps=1e-3, rng = np.random, psd_sampling = 'uniform' ):\n",
    "    if psd_sampling == 'gaussian':\n",
    "        # gaussian kernel\n",
    "        a = rng.normal( loc = 0., scale = 1., size = ( (ssp_dim - 1)//2, domain_dim) )\n",
    "        phi = np.pi * (eps + a * (1 - 2 * eps))\n",
    "    \n",
    "    elif psd_sampling == 'uniform':\n",
    "        # sinc kernel\n",
    "        a = rng.rand( (ssp_dim - 1)//2, domain_dim )\n",
    "        sign = rng.choice((-1, +1), size=np.shape(a) )\n",
    "        phi = sign * np.pi * (eps + a * (1 - 2 * eps))\n",
    "    \n",
    "    fv = np.zeros( (ssp_dim,domain_dim), dtype='complex64')\n",
    "    fv[0,:] = 1\n",
    "\n",
    "    fv[1:(ssp_dim + 1) // 2,:] = phi\n",
    "    fv[-1:ssp_dim // 2:-1,:] = -fv[1:(ssp_dim + 1) // 2,:]\n",
    "    \n",
    "    if ssp_dim % 2 == 0:\n",
    "        fv[ssp_dim // 2,:] = 1\n",
    "\n",
    "    return fv\n",
    "\n",
    "class SSPEncoder:\n",
    "    def __init__(self, phase_matrix, length_scale):\n",
    "        '''\n",
    "        Represents a domain using spatial semantic pointers.\n",
    "\n",
    "        Parameters:\n",
    "        -----------\n",
    "\n",
    "        phase_matrix : np.ndarray\n",
    "            A ssp_dim x domain_dim ndarray representing the frequency \n",
    "            components of the SSP representation.\n",
    "\n",
    "        length_scale : float or np.ndarray\n",
    "            Scales values before encoding.\n",
    "        '''\n",
    "        self.phase_matrix = phase_matrix\n",
    "\n",
    "        self.domain_dim = self.phase_matrix.shape[1]\n",
    "        self.ssp_dim = self.phase_matrix.shape[0]\n",
    "        self.update_lengthscale(length_scale)\n",
    "\n",
    "    def update_lengthscale(self, scale):\n",
    "        '''\n",
    "        Changes the lengthscale being used in the encoding.\n",
    "        '''\n",
    "        if not isinstance(scale, np.ndarray) or scale.size == 1:\n",
    "            self.length_scale = scale * np.ones((self.domain_dim,))\n",
    "        else:\n",
    "            assert scale.size == self.domain_dim\n",
    "            self.length_scale = scale\n",
    "        assert self.length_scale.size == self.domain_dim\n",
    "    \n",
    "    def encode(self,x):\n",
    "        '''\n",
    "        Transforms input data into an SSP representation.\n",
    "\n",
    "        Parameters:\n",
    "        -----------\n",
    "        x : np.ndarray\n",
    "            A (num_samples, domain_dim) array representing data to be encoded.\n",
    "\n",
    "        Returns:\n",
    "        --------\n",
    "        data : np.ndarray\n",
    "            A (num_samples, ssp_dim) array of the ssp representation of the data\n",
    "            \n",
    "        '''\n",
    "        \n",
    "        x = np.atleast_2d(x)\n",
    "        ls_mat = np.atleast_2d(np.diag(1/self.length_scale.flatten()))\n",
    "        \n",
    "        assert ls_mat.shape == (self.domain_dim, self.domain_dim), f'Expected Len Scale mat with dimensions {(self.domain_dim, self.domain_dim)}, got {ls_mat.shape}'\n",
    "        scaled_x = x @ ls_mat\n",
    "        data = np.fft.ifft( np.exp( 1.j * self.phase_matrix @ scaled_x.T), axis=0 ).real\n",
    "        \n",
    "        return data.T\n",
    "\n",
    "def RandomSSPSpace(domain_dim, ssp_dim, length_scale = None, \n",
    "                   rng = np.random.default_rng(), psd_sampling = 'uniform' ):\n",
    "    \n",
    "    phase_matrix = make_unitary_matrix_fourier(ssp_dim,domain_dim, psd_sampling = psd_sampling )\n",
    "\n",
    "    if isinstance(length_scale,float):\n",
    "        length_scale = np.array( np.tile(length_scale,domain_dim) )\n",
    "    else:\n",
    "        length_scale = np.array( length_scale )\n",
    "    return SSPEncoder(phase_matrix, length_scale=length_scale)\n",
    "\n",
    "def make_model(param):\n",
    "\n",
    "    with nengo.Network() as model:   \n",
    "    \n",
    "        def PID(e):\n",
    "            return param.kp * e[0] + param.kd * e[1]\n",
    "            \n",
    "        #Nodes\n",
    "        sys = nengo.Node(pen(dt = param.dt,m = param.m,g = param.g,b = param.b, l = param.l, t_dist = param.t_dist),size_in = 3)\n",
    "        stim = nengo.Node( lambda t: [0.5*np.sin(t),0.5*np.cos(t)] )\n",
    "        \n",
    "        #Ensembles\n",
    "        err = nengo.Ensemble(param.num_neurons,2)\n",
    "        con = nengo.Ensemble(param.num_neurons,1)\n",
    "        integral = nengo.Ensemble(param.num_neurons,1)\n",
    "\n",
    "        #Connections\n",
    "        nengo.Connection(err[0],integral,transform = 0.1) #Integral \n",
    "        nengo.Connection(integral,integral)\n",
    "        nengo.Connection(integral, con,transform = param.ki)\n",
    "        \n",
    "        nengo.Connection(sys,err,transform = -1,synapse  = param.tau_s) #Error\n",
    "        nengo.Connection(stim,err,synapse  = param.tau_s)\n",
    "        \n",
    "        nengo.Connection(sys,sys[0:2],synapse  = param.tau_s) #State Memory\n",
    "        \n",
    "        nengo.Connection(err,con,function = PID,synapse  = param.tau_s) #Control\n",
    "        nengo.Connection(con, sys[2],transform = 10,synapse  = param.tau_s)\n",
    "        \n",
    "        #Adaptive Controller Block\n",
    "        if param.adaptive_controller == True:\n",
    "            \n",
    "            if param.use_ssp == False:\n",
    "                adaptive = nengo.Ensemble(param.num_neurons,2)\n",
    "                nengo.Connection(sys,adaptive)\n",
    "                ssp_embedding = None\n",
    "            else:\n",
    "                print('embedding data into ssp space')\n",
    "                ssp_embedding = RandomSSPSpace( domain_dim = 2, \n",
    "                                                   ssp_dim = param.ssp_dim, \n",
    "                                                   length_scale = np.array([[param.ssp_ls1,param.ssp_ls2]]), \n",
    "                                                   psd_sampling = param.psd_sampling )\n",
    "                xi = - sparsity_to_x_intercept( d = param.ssp_dim, p = param.rho_specified )\n",
    "                print('xi: ', xi)\n",
    "                \n",
    "                def encode_ssp(t,x):\n",
    "                    return ssp_embedding.encode(x).flatten()\n",
    "\n",
    "                if param.encoders_type == 'random':\n",
    "                    encoders = nengo.dists.UniformHypersphere(surface=True).sample(param.num_neurons, param.ssp_dim)\n",
    "                \n",
    "                elif param.encoders_type == 'place-cells':\n",
    "                    e_xs = np.random.uniform(low=param.domain_ranges_[:,0],high=param.domain_ranges_[:,1],size=(param.num_neurons,ssp_embedding.domain_dim))\n",
    "                    encoders = ssp_embedding.encode(e_xs)\n",
    "\n",
    "                # create ensemble; random encoders for now\n",
    "                adaptive = nengo.Ensemble(n_neurons = param.num_neurons, \n",
    "                                          dimensions = ssp_embedding.ssp_dim,\n",
    "                                          gain = param.gain * np.ones(param.num_neurons),\n",
    "                                          bias = np.zeros(param.num_neurons) + xi,\n",
    "                                          neuron_type = param.neuron_type,\n",
    "                                          encoders = encoders,\n",
    "                                          normalize_encoders = True,\n",
    "                                         )\n",
    "                ssp_node = nengo.Node(encode_ssp,size_in=2)\n",
    "                nengo.Connection(sys[:2],ssp_node)\n",
    "                nengo.Connection(ssp_node,adaptive)\n",
    "            \n",
    "            a = nengo.Connection(adaptive,con,transform = np.zeros((1,adaptive.dimensions)),learning_rule_type=nengo.PES(learning_rate=param.learning_rate))\n",
    "            nengo.Connection(err,a.learning_rule,function = PID,transform = -1)  \n",
    "        \n",
    "        #Probes\n",
    "        model.sys_probe = nengo.Probe(target = sys, attr = \"output\")\n",
    "        model.stim_probe = nengo.Probe(target = stim, attr = \"output\")\n",
    "    \n",
    "    sim = nengo.Simulator(model,dt=param.dt,progress_bar=False)\n",
    "    \n",
    "    # check sparsity\n",
    "    n_eval_points = 100\n",
    "    meshes = np.meshgrid(*[np.linspace(b[0], b[1], n_eval_points) \n",
    "                            for b in param.domain_ranges_])\n",
    "    eval_xs = np.vstack([m.flatten() for m in meshes]).T\n",
    "\n",
    "    if param.use_ssp == True:\n",
    "        eval_phis = np.array(ssp_embedding.encode(eval_xs))\n",
    "        _,A = nengo.utils.ensemble.tuning_curves( ens = adaptive, sim = sim, inputs = eval_phis )\n",
    "    else:\n",
    "        _,A = nengo.utils.ensemble.tuning_curves( ens = adaptive, sim = sim, inputs = eval_xs )\n",
    "\n",
    "    rho_actual = ( A > 0 ).mean()\n",
    "    \n",
    "    return model,sim,rho_actual\n",
    "\n",
    "class AdaptiveControllerTrial(pytry.Trial):\n",
    "    def params(self):\n",
    "        \n",
    "        # System parameters\n",
    "        self.param( 'Mass of pendulum', m = 1. )\n",
    "        self.param( 'Gravity of pendulum environment', g = 9.8 )\n",
    "        self.param( 'Length of pendulum', l = 1. )\n",
    "        self.param( 'Scale on input', b = 0.05 )\n",
    "        self.param( 'Time of disturbance onset', t_dist = 5. )\n",
    "#        self.param( 'Domain bounds', domain_ranges_ = np.array([[-np.pi,np.pi],[-10.,10.]]) )\n",
    "        self.param( 'Domain bounds', domain_ranges_ = np.array([[-1.,1.],[-1.,1.]]) )\n",
    "         \n",
    "        # Simulation parameters\n",
    "        self.param( 'Simulation timestep', dt = 0.001 )\n",
    "        self.param( 'Simulation run time', sim_runtime = 20. )\n",
    "        \n",
    "        # Controller parameters\n",
    "        self.param( 'Control gain for proportional error term', kp = 10. )\n",
    "        self.param( 'Control gain for derivative error term', kd = 10. )\n",
    "        self.param( 'Control gain for integral error term', ki = 0. )\n",
    "        \n",
    "        self.param( 'Toggle adaptive controller', adaptive_controller = True )\n",
    "        self.param( 'Learning rate of adaptive controller', learning_rate = 1e-4 )\n",
    "        \n",
    "        # SSP representation parameters\n",
    "        self.param( 'Whether or not to use SSP', use_ssp = True )\n",
    "        self.param( 'Dimensionality of the SSP representation', ssp_dim = 128 )\n",
    "        self.param( 'Power spectral density sampling', psd_sampling = 'uniform' )\n",
    "        self.param( 'Length scale of SSP representation for variable 1', ssp_ls1 = 0.1 )\n",
    "        self.param( 'Length scale of SSP representation for variable 2', ssp_ls2 = 0.1 )\n",
    "        self.param( 'Sparsity of hidden layer', rho_specified = 0.1 )\n",
    "        self.param( 'Sampling of SSP space by neurons', encoders_type = 'place-cells' )\n",
    "\n",
    "        # Hidden layer parameters\n",
    "        self.param( 'Number of neurons', num_neurons = 100 )\n",
    "        self.param( 'Synapse on neurons', tau_s = 0.1 )\n",
    "        self.param( 'Gain on neuron', gain = 1. )\n",
    "        self.param( 'Neuron type', neuron_type = nengo.SpikingRectifiedLinear() )\n",
    "        \n",
    "        # Experiment parameters\n",
    "        self.param( 'Plot results', plot = True )\n",
    "        self.param( 'NNI id', nni_id = None )\n",
    "        self.param( 'NNI expt', nni_expt = None )\n",
    "        \n",
    "    def evaluate(self,param):\n",
    "        np.random.seed(param.seed)\n",
    "        model,sim,rho_actual = make_model(param)\n",
    "        sim.run(param.sim_runtime)\n",
    "    \n",
    "        ref_signal = sim.data[model.stim_probe]\n",
    "        out_signal = sim.data[model.sys_probe]\n",
    "        \n",
    "        t_idx_dist = int(param.t_dist / param.dt)\n",
    "        mse = mean_squared_error(ref_signal[t_idx_dist:,0],out_signal[t_idx_dist:,0])        \n",
    "        \n",
    "        \n",
    "        if param.plot == True:\n",
    "\n",
    "            #Plot and evaluate\n",
    "            t = sim.trange()\n",
    "\n",
    "            if param.use_ssp == True:\n",
    "                title = 'With SSP embedding'\n",
    "            else:\n",
    "                title = 'No SSP embedding'\n",
    "\n",
    "            fig,(ax1,ax2,ax3) = plt.subplots(3,1,figsize=(4.,12.),sharex=True)\n",
    "            ax1.plot(t, ref_signal[:,0], label='Ref Signal',zorder=10,color='k',linestyle='--')\n",
    "            ax1.plot(t, out_signal[:,0], label='State Signal')\n",
    "            ax1.legend(loc='lower left')\n",
    "            ax1.axvline(param.t_dist,color='k',linestyle='--')\n",
    "            ax1.set_ylabel('Amplitude')\n",
    "\n",
    "            ax2.plot(t, ref_signal[:,1], label='Ref Signal',zorder=10,color='k',linestyle='--')\n",
    "            ax2.plot(t, out_signal[:,1], label='State Signal')\n",
    "            ax2.legend(loc='lower left')\n",
    "\n",
    "            ax3.plot(t, ref_signal[:,0]-out_signal[:,0],color='dimgray',alpha=0.1)\n",
    "            ax3.axhline(mse,color='k',linestyle='--')\n",
    "            ax3.set_yscale('log')\n",
    "            ax3.set_ylim(0.001,1.)\n",
    "            ax3.set_ylabel('Error')\n",
    "            ax3.set_xlabel('Time (s)')\n",
    "            \n",
    "            fig.suptitle(title)\n",
    "            plt.legend()\n",
    "            plt.show()\n",
    "        \n",
    "        return {\n",
    "            'mean-squared-error' : mse,\n",
    "            'sparsity-actual'    : rho_actual,\n",
    "        }\n",
    "import argparse\n",
    "parser = argparse.ArgumentParser()\n",
    "parser.add_argument('--nni', type = bool, default = False ) \n",
    "\n",
    "if __name__ == '__main__':\n",
    "    args = parser.parse_args()\n",
    "    if args.nni == True:\n",
    "        params = {}\n",
    "        nni_expt = nni.get_experiment_id()\n",
    "        nni_id = nni.get_trial_id()\n",
    "        params.update( { 'nni_id'     : nni_id } )\n",
    "        params.update( { 'nni_expt'   : nni_expt } ) \n",
    "\n",
    "        dtstr = datetime.now().strftime('%d_%m_%Y') \n",
    "        data_dir = f'data/hpo-ssp-placecells-{dtstr}'\n",
    "        if not os.path.exists(data_dir):\n",
    "            os.mkdir(data_dir)\n",
    "        \n",
    "        params.update( {'data_dir'   : data_dir  } )\n",
    "        params.update( {'data_format': 'npz'     } )\n",
    "        params.update( {'plot'       : False     } )\n",
    "        params.update( {'verbose'    : True      } )\n",
    "\n",
    "        nni_params = nni.get_next_parameter()\n",
    "        params.update( nni_params )        \n",
    "\n",
    "        adc = AdaptiveControllerTrial()\n",
    "        \n",
    "        mse = 0.\n",
    "        seeds = [1,7,42]\n",
    "        for seed in seeds:\n",
    "            metadata = adc.run(\n",
    "                    seed = int(seed),\n",
    "                    ** params\n",
    "                )\n",
    "            mse += metadata['mean-squared-error']\n",
    "            \n",
    "        nni.report_final_result( mse / len(seeds) )"
   ]
  },
  {
   "cell_type": "markdown",
   "id": "8e4aef21-51c5-44b1-8197-9a2a2d83f8b3",
   "metadata": {},
   "source": [
    "## PID Pen SSP"
   ]
  },
  {
   "cell_type": "code",
   "execution_count": 6,
   "id": "10adc18a-146c-4272-989e-0743e9da5de4",
   "metadata": {},
   "outputs": [],
   "source": [
    "#Neuron Parameters\n",
    "num_neurons = 1000\n",
    "model = nengo.Network()\n",
    "Tau_s = 0 \n",
    "\n",
    "#System Parameters\n",
    "m = 1\n",
    "g = 9.8\n",
    "l = 1\n",
    "b = 0.05\n",
    "dt = 0.001\n",
    "\n",
    "#Controller Gains\n",
    "kp  = 10\n",
    "kd = 10\n",
    "ki = 0\n",
    "\n",
    "# \n",
    "domain_ranges_ = np.array([[-np.pi,np.pi],[-10.,10.]])\n",
    "adaptive_controller = True\n",
    "use_ssp = True\n",
    "ssp_dim = 128\n",
    "rho_specified = 0.1\n",
    "encoders_type = 'place-cells'\n",
    "psd_sampling = 'uniform'\n",
    "length_scale = np.asarray([[1./np.pi,1./10.]])*3\n",
    "neuron_type = nengo.RectifiedLinear()\n",
    "\n",
    "learning_rate=2e-4"
   ]
  },
  {
   "cell_type": "code",
   "execution_count": 8,
   "id": "827c8796-90e0-4383-971f-fff96de9231a",
   "metadata": {},
   "outputs": [],
   "source": [
    "def sparsity_to_x_intercept(d, p):\n",
    "    sign = 1\n",
    "    if p > 0.5:\n",
    "        p = 1.0 - p\n",
    "        sign = -1\n",
    "    return sign * np.sqrt(1-scipy.special.betaincinv((d-1)/2.0, 0.5, 2*p))\n",
    "\n",
    "def make_unitary_matrix_fourier( ssp_dim, domain_dim, eps=1e-3, rng = np.random, psd_sampling = 'uniform' ):\n",
    "    if psd_sampling == 'gaussian':\n",
    "        # gaussian kernel\n",
    "        a = rng.normal( loc = 0., scale = 1., size = ( (ssp_dim - 1)//2, domain_dim) )\n",
    "        phi = np.pi * (eps + a * (1 - 2 * eps))\n",
    "    \n",
    "    elif psd_sampling == 'uniform':\n",
    "        # sinc kernel\n",
    "        a = rng.rand( (ssp_dim - 1)//2, domain_dim )\n",
    "        sign = rng.choice((-1, +1), size=np.shape(a) )\n",
    "        phi = sign * np.pi * (eps + a * (1 - 2 * eps))\n",
    "    \n",
    "    fv = np.zeros( (ssp_dim,domain_dim), dtype='complex64')\n",
    "    fv[0,:] = 1\n",
    "\n",
    "    fv[1:(ssp_dim + 1) // 2,:] = phi\n",
    "    fv[-1:ssp_dim // 2:-1,:] = -fv[1:(ssp_dim + 1) // 2,:]\n",
    "    \n",
    "    if ssp_dim % 2 == 0:\n",
    "        fv[ssp_dim // 2,:] = 1\n",
    "\n",
    "    return fv\n",
    "\n",
    "class SSPEncoder:\n",
    "    def __init__(self, phase_matrix, length_scale):\n",
    "        '''\n",
    "        Represents a domain using spatial semantic pointers.\n",
    "\n",
    "        Parameters:\n",
    "        -----------\n",
    "\n",
    "        phase_matrix : np.ndarray\n",
    "            A ssp_dim x domain_dim ndarray representing the frequency \n",
    "            components of the SSP representation.\n",
    "\n",
    "        length_scale : float or np.ndarray\n",
    "            Scales values before encoding.\n",
    "        '''\n",
    "        self.phase_matrix = phase_matrix\n",
    "\n",
    "        self.domain_dim = self.phase_matrix.shape[1]\n",
    "        self.ssp_dim = self.phase_matrix.shape[0]\n",
    "        self.update_lengthscale(length_scale)\n",
    "\n",
    "    def update_lengthscale(self, scale):\n",
    "        '''\n",
    "        Changes the lengthscale being used in the encoding.\n",
    "        '''\n",
    "        if not isinstance(scale, np.ndarray) or scale.size == 1:\n",
    "            self.length_scale = scale * np.ones((self.domain_dim,))\n",
    "        else:\n",
    "            assert scale.size == self.domain_dim\n",
    "            self.length_scale = scale\n",
    "        assert self.length_scale.size == self.domain_dim\n",
    "    \n",
    "    def encode(self,x):\n",
    "        '''\n",
    "        Transforms input data into an SSP representation.\n",
    "\n",
    "        Parameters:\n",
    "        -----------\n",
    "        x : np.ndarray\n",
    "            A (num_samples, domain_dim) array representing data to be encoded.\n",
    "\n",
    "        Returns:\n",
    "        --------\n",
    "        data : np.ndarray\n",
    "            A (num_samples, ssp_dim) array of the ssp representation of the data\n",
    "            \n",
    "        '''\n",
    "        \n",
    "        x = np.atleast_2d(x)\n",
    "        ls_mat = np.atleast_2d(np.diag(1/self.length_scale.flatten()))\n",
    "        \n",
    "        assert ls_mat.shape == (self.domain_dim, self.domain_dim), f'Expected Len Scale mat with dimensions {(self.domain_dim, self.domain_dim)}, got {ls_mat.shape}'\n",
    "        scaled_x = x @ ls_mat\n",
    "        data = np.fft.ifft( np.exp( 1.j * self.phase_matrix @ scaled_x.T), axis=0 ).real\n",
    "        \n",
    "        return data.T\n",
    "\n",
    "def RandomSSPSpace(domain_dim, ssp_dim, length_scale = None, \n",
    "                   rng = np.random.default_rng(), psd_sampling = 'uniform' ):\n",
    "    \n",
    "    phase_matrix = make_unitary_matrix_fourier(ssp_dim,domain_dim, psd_sampling = psd_sampling )\n",
    "\n",
    "    if isinstance(length_scale,float):\n",
    "        length_scale = np.array( np.tile(length_scale,domain_dim) )\n",
    "    else:\n",
    "        length_scale = np.array( length_scale )\n",
    "    return SSPEncoder(phase_matrix, length_scale=length_scale)\n",
    "    \n",
    "    \n",
    "def encode_rff( x, n_features, length_scale, kernel = 'gaussian', coefficient = 1., n_functions = 1):\n",
    "    # print(type(x))\n",
    "    \n",
    "    # dimensionality of feature space\n",
    "    x_dim = x.shape[-1]\n",
    "    omega_shape = (n_functions, n_features, x_dim)\n",
    "    \n",
    "    if kernel == 'gaussian':\n",
    "        omega = np.random.normal( size = omega_shape )\n",
    "        \n",
    "    # Scale omegas by lengthscale\n",
    "    omega = omega / length_scale\n",
    "\n",
    "    phi = np.random.uniform( low = 0., high = (2 * np.pi), size = (n_functions, n_features, 1) )\n",
    "    \n",
    "    features = np.cos( np.einsum('sfd, nd -> sfn', omega, x) + phi)\n",
    "    features = (2 / n_features) ** 0.5 * features * coefficient\n",
    "\n",
    "    return features[0,:,:].T"
   ]
  },
  {
   "cell_type": "code",
   "execution_count": 11,
   "id": "d9ae8ae2-cd1a-4ca8-a368-22f64fbae9ab",
   "metadata": {},
   "outputs": [
    {
     "name": "stdout",
     "output_type": "stream",
     "text": [
      "embedding data into ssp space\n",
      "xi:  -0.11357431011336276\n"
     ]
    },
    {
     "data": {
      "application/vdom.v1+json": {
       "attributes": {},
       "tagName": "div"
      },
      "text/html": [
       "\n",
       "                <script>\n",
       "                    if (Jupyter.version.split(\".\")[0] < 5) {\n",
       "                        var pb = document.getElementById(\"647db028-ebb1-43e1-a0f5-c88948615e77\");\n",
       "                        var text = document.createTextNode(\n",
       "                            \"HTML progress bar requires Jupyter Notebook >= \" +\n",
       "                            \"5.0 or Jupyter Lab. Alternatively, you can use \" +\n",
       "                            \"TerminalProgressBar().\");\n",
       "                        pb.parentNode.insertBefore(text, pb);\n",
       "                    }\n",
       "                </script>\n",
       "                <div id=\"647db028-ebb1-43e1-a0f5-c88948615e77\" style=\"\n",
       "                    width: 100%;\n",
       "                    border: 1px solid #cfcfcf;\n",
       "                    border-radius: 4px;\n",
       "                    text-align: center;\n",
       "                    position: relative;\">\n",
       "                  <div class=\"pb-text\" style=\"\n",
       "                      position: absolute;\n",
       "                      width: 100%;\">\n",
       "                    0%\n",
       "                  </div>\n",
       "                  <div class=\"pb-fill\" style=\"\n",
       "                      background-color: #bdd2e6;\n",
       "                      width: 0%;\">\n",
       "                    <style type=\"text/css\" scoped=\"scoped\">\n",
       "                        @keyframes pb-fill-anim {\n",
       "                            0% { background-position: 0 0; }\n",
       "                            100% { background-position: 100px 0; }\n",
       "                        }\n",
       "                    </style>\n",
       "                    &nbsp;\n",
       "                  </div>\n",
       "                </div>"
      ],
      "text/plain": [
       "HtmlProgressBar cannot be displayed. Please use the TerminalProgressBar. It can be enabled with `nengo.rc['progress']['progress_bar'] = 'nengo.utils.progress.TerminalProgressBar'`."
      ]
     },
     "metadata": {},
     "output_type": "display_data"
    },
    {
     "data": {
      "application/vdom.v1+json": {
       "attributes": {
        "id": "21841463-3626-4515-a3dd-32b63d44e040",
        "style": {
         "border": "1px solid #cfcfcf",
         "borderRadius": "4px",
         "boxSizing": "border-box",
         "position": "relative",
         "textAlign": "center",
         "width": "100%"
        }
       },
       "children": [
        {
         "attributes": {
          "class": "pb-text",
          "style": {
           "position": "absolute",
           "width": "100%"
          }
         },
         "children": [
          "Build finished in 0:00:08."
         ],
         "tagName": "div"
        },
        {
         "attributes": {
          "class": "pb-fill",
          "style": {
           "animation": "none",
           "backgroundColor": "#bdd2e6",
           "backgroundImage": "none",
           "backgroundSize": "100px 100%",
           "width": "100%"
          }
         },
         "children": [
          {
           "attributes": {
            "scoped": "scoped",
            "type": "text/css"
           },
           "children": [
            "\n                        @keyframes pb-fill-anim {\n                            0% { background-position: 0 0; }\n                            100% { background-position: 100px 0; }\n                        }}"
           ],
           "tagName": "style"
          },
          " "
         ],
         "tagName": "div"
        }
       ],
       "tagName": "div"
      },
      "text/html": [
       "<script>\n",
       "              (function () {\n",
       "                  var root = document.getElementById('647db028-ebb1-43e1-a0f5-c88948615e77');\n",
       "                  var text = root.getElementsByClassName('pb-text')[0];\n",
       "                  var fill = root.getElementsByClassName('pb-fill')[0];\n",
       "\n",
       "                  text.innerHTML = 'Build finished in 0:00:08.';\n",
       "                  \n",
       "            fill.style.width = '100%';\n",
       "            fill.style.animation = 'pb-fill-anim 2s linear infinite';\n",
       "            fill.style.backgroundSize = '100px 100%';\n",
       "            fill.style.backgroundImage = 'repeating-linear-gradient(' +\n",
       "                '90deg, #bdd2e6, #edf2f8 40%, #bdd2e6 80%, #bdd2e6)';\n",
       "        \n",
       "                  \n",
       "                fill.style.animation = 'none';\n",
       "                fill.style.backgroundImage = 'none';\n",
       "            \n",
       "              })();\n",
       "        </script>"
      ]
     },
     "metadata": {},
     "output_type": "display_data"
    },
    {
     "data": {
      "application/vdom.v1+json": {
       "attributes": {},
       "tagName": "div"
      },
      "text/html": [
       "\n",
       "                <script>\n",
       "                    if (Jupyter.version.split(\".\")[0] < 5) {\n",
       "                        var pb = document.getElementById(\"9851514b-a2f9-4a30-83c3-05789b7eadff\");\n",
       "                        var text = document.createTextNode(\n",
       "                            \"HTML progress bar requires Jupyter Notebook >= \" +\n",
       "                            \"5.0 or Jupyter Lab. Alternatively, you can use \" +\n",
       "                            \"TerminalProgressBar().\");\n",
       "                        pb.parentNode.insertBefore(text, pb);\n",
       "                    }\n",
       "                </script>\n",
       "                <div id=\"9851514b-a2f9-4a30-83c3-05789b7eadff\" style=\"\n",
       "                    width: 100%;\n",
       "                    border: 1px solid #cfcfcf;\n",
       "                    border-radius: 4px;\n",
       "                    text-align: center;\n",
       "                    position: relative;\">\n",
       "                  <div class=\"pb-text\" style=\"\n",
       "                      position: absolute;\n",
       "                      width: 100%;\">\n",
       "                    0%\n",
       "                  </div>\n",
       "                  <div class=\"pb-fill\" style=\"\n",
       "                      background-color: #bdd2e6;\n",
       "                      width: 0%;\">\n",
       "                    <style type=\"text/css\" scoped=\"scoped\">\n",
       "                        @keyframes pb-fill-anim {\n",
       "                            0% { background-position: 0 0; }\n",
       "                            100% { background-position: 100px 0; }\n",
       "                        }\n",
       "                    </style>\n",
       "                    &nbsp;\n",
       "                  </div>\n",
       "                </div>"
      ],
      "text/plain": [
       "HtmlProgressBar cannot be displayed. Please use the TerminalProgressBar. It can be enabled with `nengo.rc['progress']['progress_bar'] = 'nengo.utils.progress.TerminalProgressBar'`."
      ]
     },
     "metadata": {},
     "output_type": "display_data"
    },
    {
     "data": {
      "application/vdom.v1+json": {
       "attributes": {
        "id": "b443f006-4765-4c1a-8a11-f1138e0ddbeb",
        "style": {
         "border": "1px solid #cfcfcf",
         "borderRadius": "4px",
         "boxSizing": "border-box",
         "position": "relative",
         "textAlign": "center",
         "width": "100%"
        }
       },
       "children": [
        {
         "attributes": {
          "class": "pb-text",
          "style": {
           "position": "absolute",
           "width": "100%"
          }
         },
         "children": [
          "Simulation finished in 0:00:26."
         ],
         "tagName": "div"
        },
        {
         "attributes": {
          "class": "pb-fill",
          "style": {
           "animation": "none",
           "backgroundColor": "#bdd2e6",
           "backgroundImage": "none",
           "transition": "width 0.1s linear",
           "width": "100%"
          }
         },
         "children": [
          {
           "attributes": {
            "scoped": "scoped",
            "type": "text/css"
           },
           "children": [
            "\n                        @keyframes pb-fill-anim {\n                            0% { background-position: 0 0; }\n                            100% { background-position: 100px 0; }\n                        }}"
           ],
           "tagName": "style"
          },
          " "
         ],
         "tagName": "div"
        }
       ],
       "tagName": "div"
      },
      "text/html": [
       "<script>\n",
       "              (function () {\n",
       "                  var root = document.getElementById('9851514b-a2f9-4a30-83c3-05789b7eadff');\n",
       "                  var text = root.getElementsByClassName('pb-text')[0];\n",
       "                  var fill = root.getElementsByClassName('pb-fill')[0];\n",
       "\n",
       "                  text.innerHTML = 'Simulation finished in 0:00:26.';\n",
       "                  \n",
       "            if (100.0 > 0.) {\n",
       "                fill.style.transition = 'width 0.1s linear';\n",
       "            } else {\n",
       "                fill.style.transition = 'none';\n",
       "            }\n",
       "\n",
       "            fill.style.width = '100.0%';\n",
       "            fill.style.animation = 'none';\n",
       "            fill.style.backgroundImage = 'none'\n",
       "        \n",
       "                  \n",
       "                fill.style.animation = 'none';\n",
       "                fill.style.backgroundImage = 'none';\n",
       "            \n",
       "              })();\n",
       "        </script>"
      ]
     },
     "metadata": {},
     "output_type": "display_data"
    }
   ],
   "source": [
    "#Define system dynamics\n",
    "class pen:\n",
    "    def __init__(self,dt,m,g,b):\n",
    "        self.dt = dt\n",
    "        self.g = g\n",
    "        self.l = l\n",
    "        self.b = b\n",
    "        self.m = m\n",
    "    def __call__(self,t, x):\n",
    "            if t % 3.71 < 0.1:\n",
    "                dis = 1.\n",
    "            else:\n",
    "                dis = 0.\n",
    "                \n",
    "            if x[0] < 0.:\n",
    "                m = self.m\n",
    "            else:\n",
    "                m = self.m + 5.\n",
    "                \n",
    "            f_x = np.asarray([ x[1] , -m*self.g*self.l * np.sin(x[0]) - self.b*x[1] + 10*x[2] + dis] )\n",
    "            \n",
    "            return x[0:2] + f_x * dt\n",
    "\n",
    "with model:\n",
    "    \n",
    "    def PID(e):\n",
    "        return kp * e[0] + kd * e[1]\n",
    "    \n",
    "    #def PID(x):\n",
    "        #x_ = x[:2]\n",
    "        #m_ = x[2:]\n",
    "        #return kp * x_[0] + kd * x_[1] + q\n",
    "    \n",
    "    #Nodes\n",
    "    sys = nengo.Node(pen(dt,m,g,b),size_in = 3)\n",
    "    stim = nengo.Node( lambda t: [0.5*np.sin(t),0.5*np.cos(t)] )\n",
    "    \n",
    "    #Ensembles\n",
    "    err = nengo.Ensemble(num_neurons,2)\n",
    "    con = nengo.Ensemble(num_neurons,1)\n",
    "    integral = nengo.Ensemble(num_neurons,1)\n",
    "\n",
    "    #Connections\n",
    "    nengo.Connection(err[0],integral,transform = 0.1) #Integral \n",
    "    nengo.Connection(integral,integral)\n",
    "    nengo.Connection(integral, con,transform = ki)\n",
    "    \n",
    "    nengo.Connection(sys,err,transform = -1,synapse  = Tau_s) #Error\n",
    "    nengo.Connection(stim,err,synapse  = Tau_s)\n",
    "    \n",
    "    nengo.Connection(sys,sys[0:2],synapse  = Tau_s) #State Memory\n",
    "    \n",
    "    nengo.Connection(err,con,function = PID,synapse  = Tau_s) #Control\n",
    "    nengo.Connection(con, sys[2],transform = 10,synapse  = Tau_s)\n",
    "    \n",
    "    #Adaptive Controller Block\n",
    "    if adaptive_controller == True:\n",
    "        \n",
    "        if use_ssp == False:\n",
    "            adaptive = nengo.Ensemble(num_neurons,2)\n",
    "            nengo.Connection(sys,adaptive)\n",
    "        else:\n",
    "            print('embedding data into ssp space')\n",
    "            ssp_embedding = RandomSSPSpace( domain_dim = 2, \n",
    "                                               ssp_dim = ssp_dim, \n",
    "                                               length_scale = length_scale, \n",
    "                                               psd_sampling = psd_sampling )\n",
    "            xi = - sparsity_to_x_intercept( d = ssp_dim, p = rho_specified )\n",
    "            print('xi: ', xi)\n",
    "            \n",
    "            def encode_ssp(t,x):\n",
    "                #print(x)\n",
    "                return ssp_embedding.encode(x).flatten()\n",
    "\n",
    "            if encoders_type == 'random':\n",
    "                encoders = nengo.dists.UniformHypersphere(surface=True).sample(num_neurons, ssp_dim)\n",
    "            \n",
    "            elif encoders_type == 'place-cells':\n",
    "                e_xs = np.random.uniform(low=domain_ranges_[:,0],high=domain_ranges_[:,1],size=(num_neurons,ssp_embedding.domain_dim))\n",
    "                encoders = ssp_embedding.encode(e_xs)\n",
    "\n",
    "            # create ensemble; random encoders for now\n",
    "            adaptive = nengo.Ensemble(n_neurons = num_neurons, \n",
    "                                      dimensions = ssp_embedding.ssp_dim,\n",
    "                                      gain = np.ones(num_neurons),\n",
    "                                      bias = np.zeros(num_neurons) + xi,\n",
    "                                      neuron_type = neuron_type,\n",
    "                                      encoders = encoders,\n",
    "                                      normalize_encoders = False,\n",
    "                                     )\n",
    "            ssp_node = nengo.Node(encode_ssp,size_in=2)\n",
    "            nengo.Connection(sys[:2],ssp_node)\n",
    "            nengo.Connection(ssp_node,adaptive)\n",
    "        \n",
    "        a = nengo.Connection(adaptive,con,transform = np.zeros((1,adaptive.dimensions)),learning_rule_type=nengo.PES(learning_rate=learning_rate))\n",
    "        nengo.Connection(err,a.learning_rule,function = PID,transform = -1)  \n",
    "        #a_1 = nengo.Connection(adaptive[0],con,learning_rule_type=nengo.PES(learning_rate=0.5e-4))\n",
    "        #a_2 = nengo.Connection(adaptive[1],con,learning_rule_type=nengo.PES(learning_rate=0.5e-4))\n",
    "        #nengo.Connection(err[0],a_1.learning_rule,transform = 1)\n",
    "        #nengo.Connection(err[1],a_2.learning_rule,transform = -1)\n",
    "    \n",
    "    #Probes\n",
    "    sys_probe = nengo.Probe(target = sys, attr = \"output\")\n",
    "    stim_probe = nengo.Probe(target = stim, attr = \"output\")\n",
    "    \n",
    "with nengo.Simulator(model) as sim:\n",
    "    sim.run(20.0)"
   ]
  },
  {
   "cell_type": "code",
   "execution_count": 12,
   "id": "46e769d4-2e1b-4d49-ace9-47db46a91adf",
   "metadata": {},
   "outputs": [
    {
     "name": "stdout",
     "output_type": "stream",
     "text": [
      "0.0008483176037947392\n"
     ]
    },
    {
     "name": "stderr",
     "output_type": "stream",
     "text": [
      "C:\\Users\\graem\\AppData\\Local\\Temp\\ipykernel_6536\\1613910331.py:35: UserWarning: No artists with labels found to put in legend.  Note that artists whose label start with an underscore are ignored when legend() is called with no argument.\n",
      "  plt.legend()\n"
     ]
    },
    {
     "data": {
      "image/png": "[encoded data removed]",
      "text/plain": [
       "<Figure size 400x1200 with 3 Axes>"
      ]
     },
     "metadata": {},
     "output_type": "display_data"
    }
   ],
   "source": [
    "from sklearn.metrics import mean_absolute_percentage_error, mean_squared_error\n",
    "\n",
    "#Plot and evaluate\n",
    "t = sim.trange()\n",
    "ref_signal = sim.data[stim_probe]\n",
    "out_signal = sim.data[sys_probe]\n",
    "#e = mean_absolute_percentage_error(ref_signal,out_signal)/100\n",
    "e = mean_squared_error(ref_signal[:,0],out_signal[:,0])\n",
    "print(e)\n",
    "\n",
    "if use_ssp == True:\n",
    "    title = 'With SSP embedding'\n",
    "else:\n",
    "    title = 'No SSP embedding'\n",
    "\n",
    "fig,(ax1,ax2,ax3) = plt.subplots(3,1,figsize=(4.,12.),sharex=True)\n",
    "ax1.plot(t, ref_signal[:,0], label='Ref Signal',zorder=10,color='k',linestyle='--')\n",
    "ax1.plot(t, out_signal[:,0], label='State Signal')\n",
    "ax1.legend(loc='lower left')\n",
    "ax1.axvline(5.,color='k',linestyle='--')\n",
    "ax3.set_xlabel('Time (s)')\n",
    "ax1.set_ylabel('Amplitude')\n",
    "\n",
    "ax2.plot(t, ref_signal[:,1], label='Ref Signal',zorder=10,color='k',linestyle='--')\n",
    "ax2.plot(t, out_signal[:,1], label='State Signal')\n",
    "ax2.legend(loc='lower left')\n",
    "\n",
    "ax3.plot(t, ref_signal[:,0]-out_signal[:,0],color='dimgray',alpha=0.1)\n",
    "ax3.axhline(e,color='k',linestyle='--')\n",
    "ax3.set_yscale('log')\n",
    "ax3.set_ylim(0.001,1.)\n",
    "ax3.set_ylabel('Error')\n",
    "\n",
    "fig.suptitle(title)\n",
    "plt.legend()\n",
    "plt.show()"
   ]
  },
  {
   "cell_type": "code",
   "execution_count": 13,
   "id": "18d1cc6d-c227-46bd-8691-3392253b0134",
   "metadata": {},
   "outputs": [
    {
     "name": "stdout",
     "output_type": "stream",
     "text": [
      "rho actual:  0.0996399\n",
      "(10000, 1000)\n"
     ]
    },
    {
     "data": {
      "image/png": "[encoded data removed]",
      "text/plain": [
       "<Figure size 400x400 with 1 Axes>"
      ]
     },
     "metadata": {},
     "output_type": "display_data"
    },
    {
     "data": {
      "image/png": "[encoded data removed]",
      "text/plain": [
       "<Figure size 400x400 with 1 Axes>"
      ]
     },
     "metadata": {},
     "output_type": "display_data"
    },
    {
     "data": {
      "image/png": "[encoded data removed]",
      "text/plain": [
       "<Figure size 400x400 with 1 Axes>"
      ]
     },
     "metadata": {},
     "output_type": "display_data"
    },
    {
     "data": {
      "image/png": "[encoded data removed]",
      "text/plain": [
       "<Figure size 400x400 with 1 Axes>"
      ]
     },
     "metadata": {},
     "output_type": "display_data"
    },
    {
     "data": {
      "image/png": "[encoded data removed]",
      "text/plain": [
       "<Figure size 400x400 with 1 Axes>"
      ]
     },
     "metadata": {},
     "output_type": "display_data"
    },
    {
     "data": {
      "image/png": "[encoded data removed]",
      "text/plain": [
       "<Figure size 400x400 with 1 Axes>"
      ]
     },
     "metadata": {},
     "output_type": "display_data"
    },
    {
     "data": {
      "image/png": "[encoded data removed]",
      "text/plain": [
       "<Figure size 400x400 with 1 Axes>"
      ]
     },
     "metadata": {},
     "output_type": "display_data"
    }
   ],
   "source": [
    "#import cupy as cp\n",
    "import numpy as cp\n",
    "\n",
    "n_eval_points = 100\n",
    "meshes = np.meshgrid(*[np.linspace(b[0], b[1], n_eval_points) \n",
    "                        for b in domain_ranges_])\n",
    "eval_xs = np.vstack([m.flatten() for m in meshes]).T\n",
    "\n",
    "if use_ssp == True:\n",
    "    eval_phis = cp.array(ssp_embedding.encode(eval_xs))\n",
    "    _,A = nengo.utils.ensemble.tuning_curves( ens = adaptive, sim = sim, inputs = eval_phis )\n",
    "else:\n",
    "    _,A = nengo.utils.ensemble.tuning_curves( ens = adaptive, sim = sim, inputs = eval_xs )\n",
    "    \n",
    "    #def ReLU( scaled_encoders,bias,test_phis ):\n",
    "#    return cp.clip( cp.dot(test_phis, scaled_encoders) + bias, a_min = 0., a_max = None )\n",
    "\n",
    "#scaled_encoders = cp.array( sim.data[adaptive].scaled_encoders.T )\n",
    "#bias = cp.array( sim.data[adaptive].bias.reshape(1,-1) )\n",
    "\n",
    "#A = ReLU( scaled_encoders, bias, eval_phis )\n",
    "print('rho actual: ', (A>0).mean())\n",
    "print(A.shape)\n",
    "\n",
    "for n in [55,89,144,233,377,610,987]:\n",
    "    fig,ax = plt.subplots(1,1,figsize=(4.,4.))\n",
    "    ax.imshow(A[:,n].reshape(n_eval_points,n_eval_points).T,\n",
    "                  origin = 'lower',\n",
    "                  extent = domain_ranges_.ravel(),\n",
    "                  aspect = 'auto',\n",
    "                  vmin = -0.13, vmax = 1.\n",
    "             )\n",
    "    plt.show()\n",
    "\n",
    "# fig,ax = plt.subplots(1,1)\n",
    "# ax.scatter(eval_xs[:,0],eval_xs[:,1],s=5)\n",
    "# plt.show()\n",
    "# "
   ]
  },
  {
   "cell_type": "markdown",
   "id": "4faa10a5-5060-4e71-91e0-56d4728706a6",
   "metadata": {},
   "source": [
    "## Graeme PID Adaptive"
   ]
  },
  {
   "cell_type": "code",
   "execution_count": 3,
   "id": "5ec7a704-3729-47bd-9567-4152c8f26349",
   "metadata": {},
   "outputs": [],
   "source": [
    "\n",
    "class pen:\n",
    "    def __init__(self,dt,m,l,b):\n",
    "        self.dt = dt\n",
    "        self.m = m\n",
    "        self.l = l\n",
    "        self.b = b\n",
    "        self.dt = dt\n",
    "        self.g = 9.81\n",
    "    def __call__(self,t, x):\n",
    "        f_x = np.asarray([ x[1] , -self.m*self.g*self.l * np.sin(x[0]) - self.b*x[1] +x[2]])\n",
    "        return x[0:2] + f_x * dt\n",
    "#Sim parameters\n",
    "num_neurons = 1000     \n",
    "model = nengo.Network()\n",
    "Tau_s = 0 \n",
    "\n",
    "#Model parameters\n",
    "m = 1\n",
    "g = 9.8\n",
    "l= 1\n",
    "b=0.05\n",
    "dt = 0.001\n",
    "\n",
    "#Controller gains\n",
    "kp  = 10\n",
    "kd = 10\n",
    "ki = 0\n",
    "\n",
    "#Nengo model\n",
    "with model:\n",
    "    \n",
    "    #Control function\n",
    "    def PID(x):\n",
    "        return kp * x[0] + kd * x[1]\n",
    "    \n",
    "    #Nodes and ensembles\n",
    "    sys = nengo.Node(pen(dt,m,l,b),size_in = 3)\n",
    "    stim = nengo.Node(lambda t: [0.5*np.sin(t),0.5*np.cos(t)]) #Stimulas\n",
    "    \n",
    "    err = nengo.Ensemble(num_neurons,2,radius = 2)\n",
    "    con = nengo.Ensemble(num_neurons,1)\n",
    "    integral = nengo.Ensemble(num_neurons,1)\n",
    "    \n",
    "    adaptive = nengo.Ensemble(num_neurons,2)\n",
    "\n",
    "    #Connections\n",
    "    nengo.Connection(err[0],integral,transform = 0.1)\n",
    "    nengo.Connection(integral,integral)\n",
    "    nengo.Connection(integral, con,transform = ki)\n",
    "    nengo.Connection(sys,err,transform = -1,synapse  = Tau_s)\n",
    "    nengo.Connection(stim,err,synapse  = Tau_s)\n",
    "    nengo.Connection(sys,sys[0:2],synapse  = Tau_s)\n",
    "    nengo.Connection(err,con,function = PID,synapse  = Tau_s)\n",
    "    nengo.Connection(con, sys[2],transform = 10,synapse  = Tau_s)\n",
    "    \n",
    "    \n",
    "    #Adaptive components\n",
    "    nengo.Connection(sys,adaptive)\n",
    "    \n",
    "    u_adapt = nengo.Connection(adaptive,con, transform=np.zeros((1,2)), learning_rule_type=nengo.PES(learning_rate=2e-4))\n",
    "    \n",
    "    nengo.Connection(err,u_adapt.learning_rule,transform = -1,function = PID)\n",
    "    "
   ]
  },
  {
   "cell_type": "markdown",
   "id": "336dc7f5-f609-4f77-ae0d-5a4202a6b747",
   "metadata": {},
   "source": [
    "# My Code"
   ]
  },
  {
   "cell_type": "markdown",
   "id": "5cbaf43e-2b5e-4a80-b15c-844882cb42a8",
   "metadata": {},
   "source": [
    "## Random Neuron Basis"
   ]
  },
  {
   "cell_type": "code",
   "execution_count": 138,
   "id": "ac777a69-316d-482e-a91c-a1994fb244a7",
   "metadata": {},
   "outputs": [],
   "source": [
    "#System Parameters\n",
    "m = 1\n",
    "g = 9.8\n",
    "l = 1\n",
    "b = 0.05\n",
    "dt = 0.001\n",
    "\n",
    "#Controller Gains\n",
    "kp  = 100\n",
    "kd = 10\n",
    "lam = 1\n",
    "ks = 100\n",
    "weight_update_rate = 2e-4\n",
    "\n",
    "#Model Parameters\n",
    "num_neurons = 1000\n",
    "basis_neurons = 1000"
   ]
  },
  {
   "cell_type": "code",
   "execution_count": 139,
   "id": "cd58b953-9497-4564-8672-e7b895c2d5af",
   "metadata": {},
   "outputs": [],
   "source": [
    "class pen:\n",
    "    def __init__(self,dt,m,l,b):\n",
    "        self.dt = dt\n",
    "        self.m = m\n",
    "        self.l = l\n",
    "        self.b = b\n",
    "        self.dt = dt\n",
    "        self.g = 9.81\n",
    "    def __call__(self,t, x):\n",
    "        # X[0:2] = [X, Xdot, U]\n",
    "        f_x = np.asarray([ x[1] , -(self.g/(self.l*self.m)) * np.sin(x[0]) - (self.b/self.m)*x[1] + x[2]/self.m])\n",
    "        return x[0:2] + f_x * dt"
   ]
  },
  {
   "cell_type": "code",
   "execution_count": 140,
   "id": "ca2bc310-f22a-490c-9456-17505c9aa09b",
   "metadata": {},
   "outputs": [
    {
     "data": {
      "application/vdom.v1+json": {
       "attributes": {},
       "tagName": "div"
      },
      "text/html": [
       "\n",
       "                <script>\n",
       "                    if (Jupyter.version.split(\".\")[0] < 5) {\n",
       "                        var pb = document.getElementById(\"9357d53f-d357-49f2-8245-97f93c57fdc0\");\n",
       "                        var text = document.createTextNode(\n",
       "                            \"HTML progress bar requires Jupyter Notebook >= \" +\n",
       "                            \"5.0 or Jupyter Lab. Alternatively, you can use \" +\n",
       "                            \"TerminalProgressBar().\");\n",
       "                        pb.parentNode.insertBefore(text, pb);\n",
       "                    }\n",
       "                </script>\n",
       "                <div id=\"9357d53f-d357-49f2-8245-97f93c57fdc0\" style=\"\n",
       "                    width: 100%;\n",
       "                    border: 1px solid #cfcfcf;\n",
       "                    border-radius: 4px;\n",
       "                    text-align: center;\n",
       "                    position: relative;\">\n",
       "                  <div class=\"pb-text\" style=\"\n",
       "                      position: absolute;\n",
       "                      width: 100%;\">\n",
       "                    0%\n",
       "                  </div>\n",
       "                  <div class=\"pb-fill\" style=\"\n",
       "                      background-color: #bdd2e6;\n",
       "                      width: 0%;\">\n",
       "                    <style type=\"text/css\" scoped=\"scoped\">\n",
       "                        @keyframes pb-fill-anim {\n",
       "                            0% { background-position: 0 0; }\n",
       "                            100% { background-position: 100px 0; }\n",
       "                        }\n",
       "                    </style>\n",
       "                    &nbsp;\n",
       "                  </div>\n",
       "                </div>"
      ],
      "text/plain": [
       "HtmlProgressBar cannot be displayed. Please use the TerminalProgressBar. It can be enabled with `nengo.rc['progress']['progress_bar'] = 'nengo.utils.progress.TerminalProgressBar'`."
      ]
     },
     "metadata": {},
     "output_type": "display_data"
    },
    {
     "data": {
      "application/vdom.v1+json": {
       "attributes": {
        "id": "7c2b16ce-58a0-4e7b-ac21-591f48eed46c",
        "style": {
         "border": "1px solid #cfcfcf",
         "borderRadius": "4px",
         "boxSizing": "border-box",
         "position": "relative",
         "textAlign": "center",
         "width": "100%"
        }
       },
       "children": [
        {
         "attributes": {
          "class": "pb-text",
          "style": {
           "position": "absolute",
           "width": "100%"
          }
         },
         "children": [
          "Build finished in 0:00:01."
         ],
         "tagName": "div"
        },
        {
         "attributes": {
          "class": "pb-fill",
          "style": {
           "animation": "none",
           "backgroundColor": "#bdd2e6",
           "backgroundImage": "none",
           "backgroundSize": "100px 100%",
           "width": "100%"
          }
         },
         "children": [
          {
           "attributes": {
            "scoped": "scoped",
            "type": "text/css"
           },
           "children": [
            "\n                        @keyframes pb-fill-anim {\n                            0% { background-position: 0 0; }\n                            100% { background-position: 100px 0; }\n                        }}"
           ],
           "tagName": "style"
          },
          " "
         ],
         "tagName": "div"
        }
       ],
       "tagName": "div"
      },
      "text/html": [
       "<script>\n",
       "              (function () {\n",
       "                  var root = document.getElementById('9357d53f-d357-49f2-8245-97f93c57fdc0');\n",
       "                  var text = root.getElementsByClassName('pb-text')[0];\n",
       "                  var fill = root.getElementsByClassName('pb-fill')[0];\n",
       "\n",
       "                  text.innerHTML = 'Build finished in 0:00:01.';\n",
       "                  \n",
       "            fill.style.width = '100%';\n",
       "            fill.style.animation = 'pb-fill-anim 2s linear infinite';\n",
       "            fill.style.backgroundSize = '100px 100%';\n",
       "            fill.style.backgroundImage = 'repeating-linear-gradient(' +\n",
       "                '90deg, #bdd2e6, #edf2f8 40%, #bdd2e6 80%, #bdd2e6)';\n",
       "        \n",
       "                  \n",
       "                fill.style.animation = 'none';\n",
       "                fill.style.backgroundImage = 'none';\n",
       "            \n",
       "              })();\n",
       "        </script>"
      ]
     },
     "metadata": {},
     "output_type": "display_data"
    },
    {
     "data": {
      "application/vdom.v1+json": {
       "attributes": {},
       "tagName": "div"
      },
      "text/html": [
       "\n",
       "                <script>\n",
       "                    if (Jupyter.version.split(\".\")[0] < 5) {\n",
       "                        var pb = document.getElementById(\"222016d1-1ba1-41c7-a508-d65e19a2e9e9\");\n",
       "                        var text = document.createTextNode(\n",
       "                            \"HTML progress bar requires Jupyter Notebook >= \" +\n",
       "                            \"5.0 or Jupyter Lab. Alternatively, you can use \" +\n",
       "                            \"TerminalProgressBar().\");\n",
       "                        pb.parentNode.insertBefore(text, pb);\n",
       "                    }\n",
       "                </script>\n",
       "                <div id=\"222016d1-1ba1-41c7-a508-d65e19a2e9e9\" style=\"\n",
       "                    width: 100%;\n",
       "                    border: 1px solid #cfcfcf;\n",
       "                    border-radius: 4px;\n",
       "                    text-align: center;\n",
       "                    position: relative;\">\n",
       "                  <div class=\"pb-text\" style=\"\n",
       "                      position: absolute;\n",
       "                      width: 100%;\">\n",
       "                    0%\n",
       "                  </div>\n",
       "                  <div class=\"pb-fill\" style=\"\n",
       "                      background-color: #bdd2e6;\n",
       "                      width: 0%;\">\n",
       "                    <style type=\"text/css\" scoped=\"scoped\">\n",
       "                        @keyframes pb-fill-anim {\n",
       "                            0% { background-position: 0 0; }\n",
       "                            100% { background-position: 100px 0; }\n",
       "                        }\n",
       "                    </style>\n",
       "                    &nbsp;\n",
       "                  </div>\n",
       "                </div>"
      ],
      "text/plain": [
       "HtmlProgressBar cannot be displayed. Please use the TerminalProgressBar. It can be enabled with `nengo.rc['progress']['progress_bar'] = 'nengo.utils.progress.TerminalProgressBar'`."
      ]
     },
     "metadata": {},
     "output_type": "display_data"
    },
    {
     "data": {
      "application/vdom.v1+json": {
       "attributes": {
        "id": "5e7e4f4c-96ec-4b26-8634-fe9183b6b52e",
        "style": {
         "border": "1px solid #cfcfcf",
         "borderRadius": "4px",
         "boxSizing": "border-box",
         "position": "relative",
         "textAlign": "center",
         "width": "100%"
        }
       },
       "children": [
        {
         "attributes": {
          "class": "pb-text",
          "style": {
           "position": "absolute",
           "width": "100%"
          }
         },
         "children": [
          "Simulation finished in 0:00:04."
         ],
         "tagName": "div"
        },
        {
         "attributes": {
          "class": "pb-fill",
          "style": {
           "animation": "none",
           "backgroundColor": "#bdd2e6",
           "backgroundImage": "none",
           "transition": "width 0.1s linear",
           "width": "100%"
          }
         },
         "children": [
          {
           "attributes": {
            "scoped": "scoped",
            "type": "text/css"
           },
           "children": [
            "\n                        @keyframes pb-fill-anim {\n                            0% { background-position: 0 0; }\n                            100% { background-position: 100px 0; }\n                        }}"
           ],
           "tagName": "style"
          },
          " "
         ],
         "tagName": "div"
        }
       ],
       "tagName": "div"
      },
      "text/html": [
       "<script>\n",
       "              (function () {\n",
       "                  var root = document.getElementById('222016d1-1ba1-41c7-a508-d65e19a2e9e9');\n",
       "                  var text = root.getElementsByClassName('pb-text')[0];\n",
       "                  var fill = root.getElementsByClassName('pb-fill')[0];\n",
       "\n",
       "                  text.innerHTML = 'Simulation finished in 0:00:04.';\n",
       "                  \n",
       "            if (100.0 > 0.) {\n",
       "                fill.style.transition = 'width 0.1s linear';\n",
       "            } else {\n",
       "                fill.style.transition = 'none';\n",
       "            }\n",
       "\n",
       "            fill.style.width = '100.0%';\n",
       "            fill.style.animation = 'none';\n",
       "            fill.style.backgroundImage = 'none'\n",
       "        \n",
       "                  \n",
       "                fill.style.animation = 'none';\n",
       "                fill.style.backgroundImage = 'none';\n",
       "            \n",
       "              })();\n",
       "        </script>"
      ]
     },
     "metadata": {},
     "output_type": "display_data"
    }
   ],
   "source": [
    "model = nengo.Network()\n",
    "with model:\n",
    "    def PD(e):\n",
    "        return kp*e[0] + kp*e[1]\n",
    "    def Sliding_Mode(e):\n",
    "        s = e[1] + lam*e[0]\n",
    "        g_x = m\n",
    "        return (1/g_x)*(ks*s + lam*e[1])\n",
    "    #Nodes\n",
    "    sys = nengo.Node(pen(dt,m,l,b),size_in = 3)\n",
    "    ref = nengo.Node( lambda t: [0.5*np.sin(t), 0.5*np.cos(t)]) #ref = [Xdes, Xdotdes]\n",
    "    \n",
    "    #Ensemble\n",
    "    err = nengo.Ensemble(num_neurons,2) #err = [e, edot]\n",
    "    adaptive_basis = nengo.Ensemble(basis_neurons,2) # Phi(x, xdot)\n",
    "    \n",
    "    #Connections\n",
    "    reference_input = nengo.Connection(ref,err)\n",
    "    feedback = nengo.Connection(sys, err, transform = -1)\n",
    "    controller = nengo.Connection(err,sys[2],function = Sliding_Mode)\n",
    "    state_connection = nengo.Connection(sys,sys[0:2],synapse = 0)\n",
    "    adaptive_input = nengo.Connection(sys,adaptive_basis)\n",
    "    \n",
    "    #Probes\n",
    "    state_probe = nengo.Probe(target = sys, attr = 'output')\n",
    "    reference_probe = nengo.Probe(target = ref, attr = 'output')\n",
    "\n",
    "    #Adaptive\n",
    "    adaptive_weights = nengo.Connection(adaptive_basis,sys[2], transform=np.zeros((1,2)), learning_rule_type=nengo.PES(learning_rate=weight_update_rate))\n",
    "    learing_rule = nengo.Connection(err,adaptive_weights.learning_rule,transform = -1, function = Sliding_Mode)\n",
    "\n",
    "with nengo.Simulator(model) as sim:\n",
    "    sim.run(10.0)"
   ]
  },
  {
   "cell_type": "code",
   "execution_count": 141,
   "id": "e421aa24-8ca6-4061-8faf-1d4031bd480e",
   "metadata": {},
   "outputs": [
    {
     "data": {
      "text/plain": [
       "[<matplotlib.lines.Line2D at 0x1a40b41e360>,\n",
       " <matplotlib.lines.Line2D at 0x1a40b41d490>]"
      ]
     },
     "execution_count": 141,
     "metadata": {},
     "output_type": "execute_result"
    },
    {
     "data": {
      "image/png": "[encoded data removed]",
      "text/plain": [
       "<Figure size 640x480 with 1 Axes>"
      ]
     },
     "metadata": {},
     "output_type": "display_data"
    }
   ],
   "source": [
    "t = sim.trange()\n",
    "ref_signal = sim.data[reference_probe]\n",
    "state_signal = sim.data[state_probe]\n",
    "\n",
    "plt.plot(t,ref_signal)\n",
    "plt.plot(t,state_signal)"
   ]
  },
  {
   "cell_type": "markdown",
   "id": "8b2e17cd-f882-47df-b8a9-389c8e1a77be",
   "metadata": {},
   "source": [
    "## Selected Neuron Basis"
   ]
  },
  {
   "cell_type": "code",
   "execution_count": 134,
   "id": "a5b25d49-deac-40be-ae59-eaf4d1d93de3",
   "metadata": {},
   "outputs": [],
   "source": [
    "#System Parameters\n",
    "m = 1\n",
    "g = 9.8\n",
    "l = 1\n",
    "b = 0.05\n",
    "dt = 0.001\n",
    "\n",
    "#Controller Gains\n",
    "kp  = 100\n",
    "kd = 10\n",
    "lam = 1\n",
    "ks = 100\n",
    "weight_update_rate = 2e-4\n",
    "\n",
    "#Model Parameters\n",
    "num_neurons = 1000\n",
    "basis_neurons = 1000"
   ]
  },
  {
   "cell_type": "code",
   "execution_count": 148,
   "id": "e0a1469b-1666-44f2-9fd6-f5501f33bd91",
   "metadata": {},
   "outputs": [],
   "source": [
    "class pen:\n",
    "    def __init__(self,dt,m,l,b):\n",
    "        self.dt = dt\n",
    "        self.m = m\n",
    "        self.l = l\n",
    "        self.b = b\n",
    "        self.dt = dt\n",
    "        self.g = 9.81\n",
    "    def __call__(self,t, x):\n",
    "        # X[0:2] = [X, Xdot, U]\n",
    "        f_x = np.asarray([ x[1] , -(self.g/(self.l*self.m)) * np.sin(x[0]) - (self.b/self.m)*x[1] + x[2]/self.m])\n",
    "        return x[0:2] + f_x * dt"
   ]
  },
  {
   "cell_type": "code",
   "execution_count": 136,
   "id": "6b836d08-1eac-41eb-9775-e5535381357e",
   "metadata": {},
   "outputs": [
    {
     "data": {
      "application/vdom.v1+json": {
       "attributes": {},
       "tagName": "div"
      },
      "text/html": [
       "\n",
       "                <script>\n",
       "                    if (Jupyter.version.split(\".\")[0] < 5) {\n",
       "                        var pb = document.getElementById(\"2d8bb361-b6df-4168-9b13-7de882c60285\");\n",
       "                        var text = document.createTextNode(\n",
       "                            \"HTML progress bar requires Jupyter Notebook >= \" +\n",
       "                            \"5.0 or Jupyter Lab. Alternatively, you can use \" +\n",
       "                            \"TerminalProgressBar().\");\n",
       "                        pb.parentNode.insertBefore(text, pb);\n",
       "                    }\n",
       "                </script>\n",
       "                <div id=\"2d8bb361-b6df-4168-9b13-7de882c60285\" style=\"\n",
       "                    width: 100%;\n",
       "                    border: 1px solid #cfcfcf;\n",
       "                    border-radius: 4px;\n",
       "                    text-align: center;\n",
       "                    position: relative;\">\n",
       "                  <div class=\"pb-text\" style=\"\n",
       "                      position: absolute;\n",
       "                      width: 100%;\">\n",
       "                    0%\n",
       "                  </div>\n",
       "                  <div class=\"pb-fill\" style=\"\n",
       "                      background-color: #bdd2e6;\n",
       "                      width: 0%;\">\n",
       "                    <style type=\"text/css\" scoped=\"scoped\">\n",
       "                        @keyframes pb-fill-anim {\n",
       "                            0% { background-position: 0 0; }\n",
       "                            100% { background-position: 100px 0; }\n",
       "                        }\n",
       "                    </style>\n",
       "                    &nbsp;\n",
       "                  </div>\n",
       "                </div>"
      ],
      "text/plain": [
       "HtmlProgressBar cannot be displayed. Please use the TerminalProgressBar. It can be enabled with `nengo.rc['progress']['progress_bar'] = 'nengo.utils.progress.TerminalProgressBar'`."
      ]
     },
     "metadata": {},
     "output_type": "display_data"
    },
    {
     "data": {
      "application/vdom.v1+json": {
       "attributes": {
        "id": "f39c317d-7f55-41fe-8f6e-578fcadce9ff",
        "style": {
         "border": "1px solid #cfcfcf",
         "borderRadius": "4px",
         "boxSizing": "border-box",
         "position": "relative",
         "textAlign": "center",
         "width": "100%"
        }
       },
       "children": [
        {
         "attributes": {
          "class": "pb-text",
          "style": {
           "position": "absolute",
           "width": "100%"
          }
         },
         "children": [
          "Build finished in 0:00:02."
         ],
         "tagName": "div"
        },
        {
         "attributes": {
          "class": "pb-fill",
          "style": {
           "animation": "none",
           "backgroundColor": "#bdd2e6",
           "backgroundImage": "none",
           "backgroundSize": "100px 100%",
           "width": "100%"
          }
         },
         "children": [
          {
           "attributes": {
            "scoped": "scoped",
            "type": "text/css"
           },
           "children": [
            "\n                        @keyframes pb-fill-anim {\n                            0% { background-position: 0 0; }\n                            100% { background-position: 100px 0; }\n                        }}"
           ],
           "tagName": "style"
          },
          " "
         ],
         "tagName": "div"
        }
       ],
       "tagName": "div"
      },
      "text/html": [
       "<script>\n",
       "              (function () {\n",
       "                  var root = document.getElementById('2d8bb361-b6df-4168-9b13-7de882c60285');\n",
       "                  var text = root.getElementsByClassName('pb-text')[0];\n",
       "                  var fill = root.getElementsByClassName('pb-fill')[0];\n",
       "\n",
       "                  text.innerHTML = 'Build finished in 0:00:02.';\n",
       "                  \n",
       "            fill.style.width = '100%';\n",
       "            fill.style.animation = 'pb-fill-anim 2s linear infinite';\n",
       "            fill.style.backgroundSize = '100px 100%';\n",
       "            fill.style.backgroundImage = 'repeating-linear-gradient(' +\n",
       "                '90deg, #bdd2e6, #edf2f8 40%, #bdd2e6 80%, #bdd2e6)';\n",
       "        \n",
       "                  \n",
       "                fill.style.animation = 'none';\n",
       "                fill.style.backgroundImage = 'none';\n",
       "            \n",
       "              })();\n",
       "        </script>"
      ]
     },
     "metadata": {},
     "output_type": "display_data"
    },
    {
     "data": {
      "application/vdom.v1+json": {
       "attributes": {},
       "tagName": "div"
      },
      "text/html": [
       "\n",
       "                <script>\n",
       "                    if (Jupyter.version.split(\".\")[0] < 5) {\n",
       "                        var pb = document.getElementById(\"58187935-9a7d-4d2d-bc39-cf83c35259df\");\n",
       "                        var text = document.createTextNode(\n",
       "                            \"HTML progress bar requires Jupyter Notebook >= \" +\n",
       "                            \"5.0 or Jupyter Lab. Alternatively, you can use \" +\n",
       "                            \"TerminalProgressBar().\");\n",
       "                        pb.parentNode.insertBefore(text, pb);\n",
       "                    }\n",
       "                </script>\n",
       "                <div id=\"58187935-9a7d-4d2d-bc39-cf83c35259df\" style=\"\n",
       "                    width: 100%;\n",
       "                    border: 1px solid #cfcfcf;\n",
       "                    border-radius: 4px;\n",
       "                    text-align: center;\n",
       "                    position: relative;\">\n",
       "                  <div class=\"pb-text\" style=\"\n",
       "                      position: absolute;\n",
       "                      width: 100%;\">\n",
       "                    0%\n",
       "                  </div>\n",
       "                  <div class=\"pb-fill\" style=\"\n",
       "                      background-color: #bdd2e6;\n",
       "                      width: 0%;\">\n",
       "                    <style type=\"text/css\" scoped=\"scoped\">\n",
       "                        @keyframes pb-fill-anim {\n",
       "                            0% { background-position: 0 0; }\n",
       "                            100% { background-position: 100px 0; }\n",
       "                        }\n",
       "                    </style>\n",
       "                    &nbsp;\n",
       "                  </div>\n",
       "                </div>"
      ],
      "text/plain": [
       "HtmlProgressBar cannot be displayed. Please use the TerminalProgressBar. It can be enabled with `nengo.rc['progress']['progress_bar'] = 'nengo.utils.progress.TerminalProgressBar'`."
      ]
     },
     "metadata": {},
     "output_type": "display_data"
    },
    {
     "data": {
      "application/vdom.v1+json": {
       "attributes": {
        "id": "811f4840-4cc2-4f13-8b2f-a7816a24fe78",
        "style": {
         "border": "1px solid #cfcfcf",
         "borderRadius": "4px",
         "boxSizing": "border-box",
         "position": "relative",
         "textAlign": "center",
         "width": "100%"
        }
       },
       "children": [
        {
         "attributes": {
          "class": "pb-text",
          "style": {
           "position": "absolute",
           "width": "100%"
          }
         },
         "children": [
          "Simulation finished in 0:00:03."
         ],
         "tagName": "div"
        },
        {
         "attributes": {
          "class": "pb-fill",
          "style": {
           "animation": "none",
           "backgroundColor": "#bdd2e6",
           "backgroundImage": "none",
           "transition": "width 0.1s linear",
           "width": "100%"
          }
         },
         "children": [
          {
           "attributes": {
            "scoped": "scoped",
            "type": "text/css"
           },
           "children": [
            "\n                        @keyframes pb-fill-anim {\n                            0% { background-position: 0 0; }\n                            100% { background-position: 100px 0; }\n                        }}"
           ],
           "tagName": "style"
          },
          " "
         ],
         "tagName": "div"
        }
       ],
       "tagName": "div"
      },
      "text/html": [
       "<script>\n",
       "              (function () {\n",
       "                  var root = document.getElementById('58187935-9a7d-4d2d-bc39-cf83c35259df');\n",
       "                  var text = root.getElementsByClassName('pb-text')[0];\n",
       "                  var fill = root.getElementsByClassName('pb-fill')[0];\n",
       "\n",
       "                  text.innerHTML = 'Simulation finished in 0:00:03.';\n",
       "                  \n",
       "            if (100.0 > 0.) {\n",
       "                fill.style.transition = 'width 0.1s linear';\n",
       "            } else {\n",
       "                fill.style.transition = 'none';\n",
       "            }\n",
       "\n",
       "            fill.style.width = '100.0%';\n",
       "            fill.style.animation = 'none';\n",
       "            fill.style.backgroundImage = 'none'\n",
       "        \n",
       "                  \n",
       "                fill.style.animation = 'none';\n",
       "                fill.style.backgroundImage = 'none';\n",
       "            \n",
       "              })();\n",
       "        </script>"
      ]
     },
     "metadata": {},
     "output_type": "display_data"
    }
   ],
   "source": [
    "model = nengo.Network()\n",
    "with model:\n",
    "    def PD(e):\n",
    "        return kp*e[0] + kp*e[1]\n",
    "    def Sliding_Mode(e):\n",
    "        s = e[1] + lam*e[0]\n",
    "        g_x = m\n",
    "        return (1/g_x)*(ks*s + lam*e[1])\n",
    "    #Nodes\n",
    "    sys = nengo.Node(pen(dt,m,l,b),size_in = 3)\n",
    "    ref = nengo.Node( lambda t: [0.5*np.sin(t), 0.5*np.cos(t)]) #ref = [Xdes, Xdotdes]\n",
    "    \n",
    "    #Ensemble\n",
    "    err = nengo.Ensemble(num_neurons,2) #err = [e, edot]\n",
    "    adaptive_basis = nengo.Ensemble(basis_neurons,2) # Phi(x, xdot)\n",
    "    \n",
    "    #Connections\n",
    "    reference_input = nengo.Connection(ref,err)\n",
    "    feedback = nengo.Connection(sys, err, transform = -1)\n",
    "    controller = nengo.Connection(err,sys[2],function = Sliding_Mode)\n",
    "    state_connection = nengo.Connection(sys,sys[0:2],synapse = 0)\n",
    "    adaptive_input = nengo.Connection(sys,adaptive_basis)\n",
    "    \n",
    "    #Probes\n",
    "    state_probe = nengo.Probe(target = sys, attr = 'output')\n",
    "    reference_probe = nengo.Probe(target = ref, attr = 'output')\n",
    "\n",
    "    #Adaptive\n",
    "    adaptive_weights = nengo.Connection(adaptive_basis,sys[2], transform=np.zeros((1,2)), learning_rule_type=nengo.PES(learning_rate=weight_update_rate))\n",
    "    learing_rule = nengo.Connection(err,adaptive_weights.learning_rule,transform = -1, function = Sliding_Mode)\n",
    "\n",
    "with nengo.Simulator(model) as sim:\n",
    "    sim.run(10.0)"
   ]
  },
  {
   "cell_type": "code",
   "execution_count": 137,
   "id": "8f2d6f11-1d91-489e-ac7c-d2bb872a5101",
   "metadata": {},
   "outputs": [
    {
     "data": {
      "text/plain": [
       "[<matplotlib.lines.Line2D at 0x1a40b3d6390>,\n",
       " <matplotlib.lines.Line2D at 0x1a40b3d7c20>]"
      ]
     },
     "execution_count": 137,
     "metadata": {},
     "output_type": "execute_result"
    },
    {
     "data": {
      "image/png": "[encoded data removed]",
      "text/plain": [
       "<Figure size 640x480 with 1 Axes>"
      ]
     },
     "metadata": {},
     "output_type": "display_data"
    }
   ],
   "source": [
    "t = sim.trange()\n",
    "ref_signal = sim.data[reference_probe]\n",
    "state_signal = sim.data[state_probe]\n",
    "\n",
    "plt.plot(t,ref_signal)\n",
    "plt.plot(t,state_signal)"
   ]
  },
  {
   "cell_type": "code",
   "execution_count": null,
   "id": "c37883da-819a-4e62-9dc3-fb66df041d3d",
   "metadata": {},
   "outputs": [],
   "source": []
  }
 ],
 "metadata": {
  "kernelspec": {
   "display_name": "Python 3 (ipykernel)",
   "language": "python",
   "name": "python3"
  },
  "language_info": {
   "codemirror_mode": {
    "name": "ipython",
    "version": 3
   },
   "file_extension": ".py",
   "mimetype": "text/x-python",
   "name": "python",
   "nbconvert_exporter": "python",
   "pygments_lexer": "ipython3",
   "version": "3.12.4"
  }
 },
 "nbformat": 4,
 "nbformat_minor": 5
}
